{
 "cells": [
  {
   "cell_type": "code",
   "execution_count": 1,
   "id": "6b88b4bc-a5c4-436d-9eed-8e95600f6d53",
   "metadata": {
    "editable": true,
    "slideshow": {
     "slide_type": ""
    },
    "tags": []
   },
   "outputs": [],
   "source": [
    "from Animal import Animal\n",
    "class Animal:\n",
    "    def __init__(self, type, name, sound, play, age):\n",
    "        self.__type= type\n",
    "        self.__name= name\n",
    "        self.__sound= sound\n",
    "        self.__play= play\n",
    "        self.__age= age\n",
    "        \n",
    "    \n",
    "    def animal_type(self):\n",
    "        return f\"I adopted a new {self.__type}!\"\n",
    "    def animal_name(self):\n",
    "        return f\"My baby {self.__type} name is {self.__name}!!\"\n",
    "    def animal_sound(self):\n",
    "        return f\"Omg. The baby {self.__sound} very loudly.\"\n",
    "    def animal_play(self):\n",
    "        return f\"{self.__name} loves to {self.__play}!\"\n",
    "    def animal_age(self):\n",
    "        return f\"He is only {self.__age} years old!!\""
   ]
  },
  {
   "cell_type": "code",
   "execution_count": 2,
   "id": "738a52e3-faf1-4f92-8835-fed5b5e36dfe",
   "metadata": {
    "editable": true,
    "slideshow": {
     "slide_type": ""
    },
    "tags": []
   },
   "outputs": [
    {
     "name": "stdout",
     "output_type": "stream",
     "text": [
      "hello\n",
      "hi\n"
     ]
    }
   ],
   "source": [
    "x = Animal()\n",
    "x.talk()"
   ]
  }
 ],
 "metadata": {
  "kernelspec": {
   "display_name": "Python 3",
   "language": "python",
   "name": "python3"
  },
  "language_info": {
   "codemirror_mode": {
    "name": "ipython",
    "version": 3
   },
   "file_extension": ".py",
   "mimetype": "text/x-python",
   "name": "python",
   "nbconvert_exporter": "python",
   "pygments_lexer": "ipython3",
   "version": "3.12.2"
  }
 },
 "nbformat": 4,
 "nbformat_minor": 5
}
