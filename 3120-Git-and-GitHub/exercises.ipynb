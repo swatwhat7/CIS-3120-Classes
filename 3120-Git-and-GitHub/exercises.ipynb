{
 "cells": [
  {
   "cell_type": "markdown",
   "id": "dbccd1eb",
   "metadata": {},
   "source": [
    "# Python Debugging Exercises\n",
    "\n",
    "Each exercise contains a faulty Python code snippet. Your task is to identify and fix the errors."
   ]
  },
  {
   "cell_type": "markdown",
   "id": "3ce2dc23",
   "metadata": {},
   "source": [
    "## Exercise 0"
   ]
  },
  {
   "cell_type": "code",
   "execution_count": null,
   "id": "c5c2a0ba",
   "metadata": {},
   "outputs": [],
   "source": [
    "print(Hello World)"
   ]
  },
  {
   "cell_type": "markdown",
   "id": "8ab17a7e",
   "metadata": {},
   "source": [
    "## Exercise 1"
   ]
  },
  {
   "cell_type": "code",
   "execution_count": 1,
   "id": "8248eaed",
   "metadata": {},
   "outputs": [
    {
     "name": "stdout",
     "output_type": "stream",
     "text": [
      "3\n",
      "1\n"
     ]
    }
   ],
   "source": [
    "def count_vowels(s):\n",
    "    vowels = \"aeiou\"\n",
    "    count = 0\n",
    "    for char in s.lower():\n",
    "        if char in vowels:\n",
    "            count += 1\n",
    "    return count\n",
    "\n",
    "print(count_vowels(\"Hello World\"))\n",
    "print(count_vowels(\"Python\"))"
   ]
  },
  {
   "cell_type": "markdown",
   "id": "4b0683ec",
   "metadata": {},
   "source": [
    "## Exercise 2"
   ]
  },
  {
   "cell_type": "code",
   "execution_count": null,
   "id": "77fafb36",
   "metadata": {},
   "outputs": [],
   "source": [
    "def greet(name):\n",
    "    if name= \"Alice\":\n",
    "        print(\"Hello Alice!\")\n",
    "    else:\n",
    "        print(\"Hello, \" name + \"!\")\n",
    "\n",
    "greet(\"Bob\")"
   ]
  },
  {
   "cell_type": "markdown",
   "id": "77e9cda6",
   "metadata": {},
   "source": [
    "## Exercise 3"
   ]
  },
  {
   "cell_type": "code",
   "execution_count": null,
   "id": "975bd17b",
   "metadata": {},
   "outputs": [],
   "source": [
    "def reverse_list(lst):\n",
    "    return lst.reverse()\n",
    "\n",
    "print(reverse_list([1, 2, 3, 4]))\n",
    "print(reverse_list([\"a\", \"b\", \"c\"]))"
   ]
  },
  {
   "cell_type": "markdown",
   "id": "903f7e9e",
   "metadata": {},
   "source": [
    "## Exercise 4"
   ]
  },
  {
   "cell_type": "code",
   "execution_count": null,
   "id": "3a7a421f",
   "metadata": {},
   "outputs": [],
   "source": [
    "def check_even_odd(n):\n",
    "    if n % 2 == 0:\n",
    "        return \"Even\"\n",
    "    else:\n",
    "        return \"Odd\n",
    "\n",
    "print(check_even_odd(7))\n",
    "print(check_even_odd(10))"
   ]
  },
  {
   "cell_type": "markdown",
   "id": "1e78c61b",
   "metadata": {},
   "source": [
    "## Exercise 5"
   ]
  },
  {
   "cell_type": "code",
   "execution_count": null,
   "id": "4b9ec48a",
   "metadata": {},
   "outputs": [],
   "source": [
    "def factorial_recursive(n):\n",
    "    if n == 0:\n",
    "        return 1\n",
    "    else:\n",
    "        return n * factorial_recursive(n - 1\n",
    "\n",
    "print(factorial_recursive(5))\n",
    "print(factorial_recursive(7))"
   ]
  },
  {
   "cell_type": "markdown",
   "id": "b6fc5878",
   "metadata": {},
   "source": [
    "## Exercise 6"
   ]
  },
  {
   "cell_type": "code",
   "execution_count": null,
   "id": "ec5e57fd",
   "metadata": {},
   "outputs": [],
   "source": [
    "def filter_positive_numbers(lst):\n",
    "    for num in lst:\n",
    "        if num > 0:\n",
    "        return num\n",
    "\n",
    "print(filter_positive_numbers([-2, -1, 0, 1, 2]))\n",
    "print(filter_positive_numbers([10, -10, 20]))"
   ]
  },
  {
   "cell_type": "markdown",
   "id": "277f951c",
   "metadata": {},
   "source": [
    "## Exercise 7"
   ]
  },
  {
   "cell_type": "code",
   "execution_count": 2,
   "id": "3422f26d",
   "metadata": {},
   "outputs": [
    {
     "name": "stdout",
     "output_type": "stream",
     "text": [
      "[1, 2, 3, 4, 5]\n",
      "[5, 6, 7]\n"
     ]
    }
   ],
   "source": [
    "def unique_elements(lst):\n",
    "    unique = []\n",
    "    for num in lst:\n",
    "        if num not in unique:\n",
    "            unique.append(num)\n",
    "    return unique\n",
    "\n",
    "print(unique_elements([1, 2, 2, 3, 4, 4, 5]))\n",
    "print(unique_elements([5, 5, 6, 7]))"
   ]
  },
  {
   "cell_type": "markdown",
   "id": "87f7835c",
   "metadata": {},
   "source": [
    "## Exercise 8"
   ]
  },
  {
   "cell_type": "code",
   "execution_count": null,
   "id": "ff48a258",
   "metadata": {},
   "outputs": [],
   "source": [
    "def factorial_iterative(n):\n",
    "    result = 1\n",
    "    for i in range(1, n + 1)\n",
    "        result *= i\n",
    "    return result\n",
    "\n",
    "print(factorial_iterative(5))\n",
    "print(factorial_iterative(10))"
   ]
  },
  {
   "cell_type": "markdown",
   "id": "e53a777a",
   "metadata": {},
   "source": [
    "## Exercise 9"
   ]
  },
  {
   "cell_type": "code",
   "execution_count": null,
   "id": "15bfaeb1",
   "metadata": {},
   "outputs": [],
   "source": [
    "def is_palindrome(s):\n",
    "    return s == s[::-1]\n",
    "\n",
    "words = [\"racecar\", \"hello\", \"madam\"]\n",
    "for word in words:\n",
    "    print(f\"{word}: {is_palindrome(word)}\")"
   ]
  },
  {
   "cell_type": "markdown",
   "id": "ce522afc",
   "metadata": {},
   "source": [
    "## Exercise 10"
   ]
  },
  {
   "cell_type": "code",
   "execution_count": null,
   "id": "d80352af",
   "metadata": {},
   "outputs": [],
   "source": [
    "def get_third_item(lst):\n",
    "    if len(lst) >= 3:\n",
    "        return lst(2)\n",
    "    else:\n",
    "        return \"List too short.\"\n",
    "\n",
    "items = [\"apple\", \"banana\", \"cherry\"]\n",
    "print(get_third_item(items))"
   ]
  },
  {
   "cell_type": "markdown",
   "id": "7cd278c2",
   "metadata": {},
   "source": [
    "## Exercise 11"
   ]
  },
  {
   "cell_type": "code",
   "execution_count": null,
   "id": "6e0b926f",
   "metadata": {},
   "outputs": [],
   "source": [
    "def sum_numbers(numbers):\n",
    "    total = 0\n",
    "    for i in range(len(numbers)+1):\n",
    "        total += numbers[i]\n",
    "    return total\n",
    "\n",
    "print(sum_numbers([1, 2, 3, 4]))\n",
    "print(sum_numbers([10, 20, 30]))"
   ]
  },
  {
   "cell_type": "markdown",
   "id": "7390a144",
   "metadata": {},
   "source": [
    "## Exercise 12"
   ]
  },
  {
   "cell_type": "code",
   "execution_count": null,
   "id": "60a75ef6",
   "metadata": {},
   "outputs": [],
   "source": [
    "def find_max(lst):\n",
    "    max = 0\n",
    "    for num in lst:\n",
    "        if num > max:\n",
    "            max = num\n",
    "    return max\n",
    "\n",
    "print(find_max([-1, -5, -3]))\n",
    "print(find_max([0, 2, 5, 10]))"
   ]
  },
  {
   "cell_type": "markdown",
   "id": "f43a2143",
   "metadata": {},
   "source": [
    "## Exercise 13"
   ]
  },
  {
   "cell_type": "code",
   "execution_count": null,
   "id": "bcf66f26",
   "metadata": {},
   "outputs": [],
   "source": [
    "def divide(a, b):\n",
    "    try:\n",
    "        print(\"Result:\", a / b)\n",
    "    except:\n",
    "        print(\"Error!\")\n",
    "\n",
    "divide(10, 2)\n",
    "divide(5, 0)"
   ]
  },
  {
   "cell_type": "markdown",
   "id": "ad575619",
   "metadata": {},
   "source": [
    "## Exercise 14"
   ]
  },
  {
   "cell_type": "code",
   "execution_count": null,
   "id": "8b15ba68",
   "metadata": {},
   "outputs": [],
   "source": [
    "def remove_whitespace(s):\n",
    "    return s.replace(\" \", \"\")\n",
    "\n",
    "print(remove_whitespace(hello world))\n",
    "print(remove_whitespace(\" Python Programming \"))"
   ]
  },
  {
   "cell_type": "markdown",
   "id": "bfa284de",
   "metadata": {},
   "source": [
    "## Exercise 15"
   ]
  },
  {
   "cell_type": "code",
   "execution_count": null,
   "id": "be90b6fd",
   "metadata": {},
   "outputs": [],
   "source": [
    "counter = 0\n",
    "def increment_counter():\n",
    "    counter += 1\n",
    "    return counter\n",
    "\n",
    "print(increment_counter())\n",
    "print(increment_counter())"
   ]
  },
  {
   "cell_type": "markdown",
   "id": "b6996ed6",
   "metadata": {},
   "source": [
    "## Exercise 16"
   ]
  },
  {
   "cell_type": "code",
   "execution_count": null,
   "id": "40bd9478",
   "metadata": {},
   "outputs": [],
   "source": [
    "def factorial(n):\n",
    "    if n == 0:\n",
    "        return 1\n",
    "    else:\n",
    "        return n * factorial(n-1\n",
    "\n",
    "print(factorial(5))"
   ]
  },
  {
   "cell_type": "markdown",
   "id": "3efd69d6",
   "metadata": {},
   "source": [
    "## Exercise 17"
   ]
  },
  {
   "cell_type": "code",
   "execution_count": null,
   "id": "63024776",
   "metadata": {},
   "outputs": [],
   "source": [
    "def is_prime(n):\n",
    "    if n < 2:\n",
    "        return False\n",
    "    for i in range(2, n):\n",
    "        if n % i = 0:\n",
    "            return False\n",
    "    return True\n",
    "\n",
    "print(is_prime(7))\n",
    "print(is_prime(10))"
   ]
  },
  {
   "cell_type": "markdown",
   "id": "bbae84cf",
   "metadata": {},
   "source": [
    "## Exercise 18"
   ]
  },
  {
   "cell_type": "code",
   "execution_count": null,
   "id": "9577f921",
   "metadata": {},
   "outputs": [],
   "source": [
    "def countdown(n):\n",
    "    while n > 0:\n",
    "        print(n)\n",
    "    n -= 1\n",
    "\n",
    "countdown(5)\n",
    "print(\"Blastoff!\")"
   ]
  },
  {
   "cell_type": "markdown",
   "id": "4a1cff7f",
   "metadata": {},
   "source": [
    "## Exercise 19"
   ]
  },
  {
   "cell_type": "code",
   "execution_count": null,
   "id": "1559b008",
   "metadata": {},
   "outputs": [],
   "source": [
    "def fizz_buzz(n):\n",
    "    for i in range(1, n + 1):\n",
    "        if i % 3 == 0 and i % 5 == 0\n",
    "            print(\"FizzBuzz\")\n",
    "        elif i % 3 == 0:\n",
    "            print(\"Fizz\")\n",
    "        elif i % 5 == 0:\n",
    "            print(\"Buzz\")\n",
    "        else:\n",
    "            print(i)\n",
    "\n",
    "fizz_buzz(15)"
   ]
  },
  {
   "cell_type": "markdown",
   "id": "900ea248",
   "metadata": {},
   "source": [
    "## Exercise 20"
   ]
  },
  {
   "cell_type": "code",
   "execution_count": null,
   "id": "d77cbc2d",
   "metadata": {},
   "outputs": [],
   "source": [
    "def unique_elements(lst):\n",
    "    unique = []\n",
    "    for num in lst:\n",
    "        if num not in unique:\n",
    "        unique.append(num)\n",
    "    return unique\n",
    "\n",
    "print(unique_elements([1, 2, 2, 3, 4, 4, 5]))\n",
    "print(unique_elements([5, 5, 6, 7]))"
   ]
  },
  {
   "cell_type": "markdown",
   "id": "5ca7b8ac",
   "metadata": {},
   "source": [
    "## Exercise 21"
   ]
  },
  {
   "cell_type": "code",
   "execution_count": null,
   "id": "b479f1cd",
   "metadata": {},
   "outputs": [],
   "source": [
    "def fizz_buzz(n):\n",
    "    for i in range(1, n + 1):\n",
    "        if i % 3 == 0 and i % 5 == 0\n",
    "            print(\"FizzBuzz\")\n",
    "        elif i % 3 == 0:\n",
    "            print(\"Fizz\")\n",
    "        elif i % 5 == 0:\n",
    "            print(\"Buzz\")\n",
    "        else:\n",
    "            print(i)\n",
    "\n",
    "fizz_buzz(15)"
   ]
  },
  {
   "cell_type": "markdown",
   "id": "3a28ce2a",
   "metadata": {},
   "source": [
    "## Exercise 22"
   ]
  },
  {
   "cell_type": "code",
   "execution_count": null,
   "id": "33d2ab99",
   "metadata": {},
   "outputs": [],
   "source": [
    "def reverse_string(s):\n",
    "    reversed_str = s.reverse()\n",
    "    return reversed_str\n",
    "\n",
    "print(reverse_string(\"hello\"))"
   ]
  },
  {
   "cell_type": "markdown",
   "id": "31425aaa",
   "metadata": {},
   "source": [
    "## Exercise 23"
   ]
  },
  {
   "cell_type": "code",
   "execution_count": null,
   "id": "f8bbf469",
   "metadata": {},
   "outputs": [],
   "source": [
    "def sum_digits(n):\n",
    "    return sum(int(digit) for digit in str(n)\n",
    "\n",
    "print(sum_digits(1234))\n",
    "print(sum_digits(56789))"
   ]
  },
  {
   "cell_type": "markdown",
   "id": "ff862c8c",
   "metadata": {},
   "source": [
    "## Exercise 24"
   ]
  },
  {
   "cell_type": "code",
   "execution_count": null,
   "id": "d5a8c2ac",
   "metadata": {},
   "outputs": [],
   "source": [
    "def square_numbers(numbers):\n",
    "    squared = [num ** 2 for num in numbers\n",
    "    return squared\n",
    "\n",
    "print(square_numbers([1, 2, 3, 4]))\n",
    "print(square_numbers([5, 6, 7]))"
   ]
  },
  {
   "cell_type": "markdown",
   "id": "4740dc69",
   "metadata": {},
   "source": [
    "## Exercise 25"
   ]
  },
  {
   "cell_type": "code",
   "execution_count": null,
   "id": "ab249040",
   "metadata": {},
   "outputs": [],
   "source": [
    "def sum_numbers(numbers):\n",
    "    total = 0\n",
    "    for i in range(len(numbers)+1):\n",
    "        total += numbers[i]\n",
    "    return total\n",
    "\n",
    "print(sum_numbers([1, 2, 3, 4]))\n",
    "print(sum_numbers([10, 20, 30]))"
   ]
  },
  {
   "cell_type": "markdown",
   "id": "dafc6024",
   "metadata": {},
   "source": [
    "## Exercise 26"
   ]
  },
  {
   "cell_type": "code",
   "execution_count": null,
   "id": "3adb0450",
   "metadata": {},
   "outputs": [],
   "source": [
    "def sum_numbers(numbers):\n",
    "    total = 0\n",
    "    for i in range(len(numbers)+1):\n",
    "        total += numbers[i]\n",
    "    return total\n",
    "\n",
    "print(sum_numbers([1, 2, 3, 4]))\n",
    "print(sum_numbers([10, 20, 30]))"
   ]
  },
  {
   "cell_type": "markdown",
   "id": "16d2da53",
   "metadata": {},
   "source": [
    "## Exercise 27"
   ]
  },
  {
   "cell_type": "code",
   "execution_count": null,
   "id": "1fddc2c9",
   "metadata": {},
   "outputs": [],
   "source": [
    "def find_max(lst):\n",
    "    return max(lst)\n",
    "\n",
    "print(find_max([4, 2, 8, 1]))\n",
    "print(find_max([100, 50, 20]))"
   ]
  },
  {
   "cell_type": "markdown",
   "id": "e3e581f7",
   "metadata": {},
   "source": [
    "## Exercise 28"
   ]
  },
  {
   "cell_type": "code",
   "execution_count": null,
   "id": "950f3234",
   "metadata": {},
   "outputs": [],
   "source": [
    "def swap_first_last(lst):\n",
    "    if len(lst) > 1:\n",
    "        lst[0], lst[-1] == lst[-1], lst[0]\n",
    "    return lst\n",
    "\n",
    "print(swap_first_last([1, 2, 3, 4]))\n",
    "print(swap_first_last([\"a\", \"b\", \"c\"]))"
   ]
  },
  {
   "cell_type": "markdown",
   "id": "9374b004",
   "metadata": {},
   "source": [
    "## Exercise 29"
   ]
  },
  {
   "cell_type": "code",
   "execution_count": null,
   "id": "f207c451",
   "metadata": {},
   "outputs": [],
   "source": [
    "def get_third_item(lst):\n",
    "    if len(lst) >= 3:\n",
    "        return lst(2)\n",
    "    else:\n",
    "        return \"List too short.\"\n",
    "\n",
    "items = [\"apple\", \"banana\", \"cherry\"]\n",
    "print(get_third_item(items))"
   ]
  },
  {
   "cell_type": "markdown",
   "id": "e19d30a2",
   "metadata": {},
   "source": [
    "## Exercise 30"
   ]
  },
  {
   "cell_type": "code",
   "execution_count": null,
   "id": "dcd7c3e0",
   "metadata": {},
   "outputs": [],
   "source": [
    "def reverse_list(lst):\n",
    "    return lst.reverse()\n",
    "\n",
    "print(reverse_list([1, 2, 3, 4]))\n",
    "print(reverse_list([\"a\", \"b\", \"c\"]))"
   ]
  },
  {
   "cell_type": "markdown",
   "id": "7a37b9f4",
   "metadata": {},
   "source": [
    "## Exercise 31"
   ]
  },
  {
   "cell_type": "code",
   "execution_count": null,
   "id": "5b4e0de2",
   "metadata": {},
   "outputs": [],
   "source": [
    "def count_vowels(s):\n",
    "    vowels = \"aeiou\"\n",
    "    count = 0\n",
    "    for char in s.lower():\n",
    "        if char in vowels\n",
    "            count += 1\n",
    "    return count\n",
    "\n",
    "print(count_vowels(\"Hello World\"))\n",
    "print(count_vowels(\"Python\"))"
   ]
  },
  {
   "cell_type": "markdown",
   "id": "20f2ec3f",
   "metadata": {},
   "source": [
    "## Exercise 32"
   ]
  },
  {
   "cell_type": "code",
   "execution_count": null,
   "id": "034a8d9a",
   "metadata": {},
   "outputs": [],
   "source": [
    "def is_palindrome(s):\n",
    "    return s == s[::-1]\n",
    "\n",
    "words = [\"racecar\", \"hello\", \"madam\"]\n",
    "for word in words:\n",
    "    print(f\"{word}: {is_palindrome(word)}\")"
   ]
  },
  {
   "cell_type": "markdown",
   "id": "64ffca8c",
   "metadata": {},
   "source": [
    "## Exercise 33"
   ]
  },
  {
   "cell_type": "code",
   "execution_count": null,
   "id": "ddcae681",
   "metadata": {},
   "outputs": [],
   "source": [
    "def unique_elements(lst):\n",
    "    unique = []\n",
    "    for num in lst:\n",
    "        if num not in unique:\n",
    "        unique.append(num)\n",
    "    return unique\n",
    "\n",
    "print(unique_elements([1, 2, 2, 3, 4, 4, 5]))\n",
    "print(unique_elements([5, 5, 6, 7]))"
   ]
  },
  {
   "cell_type": "markdown",
   "id": "161aa0f1",
   "metadata": {},
   "source": [
    "## Exercise 34"
   ]
  },
  {
   "cell_type": "code",
   "execution_count": null,
   "id": "12138c85",
   "metadata": {},
   "outputs": [],
   "source": [
    "def check_even_odd(n):\n",
    "    if n % 2 == 0:\n",
    "        return \"Even\"\n",
    "    else:\n",
    "        return \"Odd\n",
    "\n",
    "print(check_even_odd(7))\n",
    "print(check_even_odd(10))"
   ]
  },
  {
   "cell_type": "markdown",
   "id": "f3ef5af1",
   "metadata": {},
   "source": [
    "## Exercise 35"
   ]
  },
  {
   "cell_type": "code",
   "execution_count": null,
   "id": "620d2af9",
   "metadata": {},
   "outputs": [],
   "source": [
    "def divide(a, b):\n",
    "    try:\n",
    "        print(\"Result:\", a / b)\n",
    "    except:\n",
    "        print(\"Error!\")\n",
    "\n",
    "divide(10, 2)\n",
    "divide(5, 0)"
   ]
  },
  {
   "cell_type": "markdown",
   "id": "886ad002",
   "metadata": {},
   "source": [
    "## Exercise 36"
   ]
  },
  {
   "cell_type": "code",
   "execution_count": null,
   "id": "42a32cc1",
   "metadata": {},
   "outputs": [],
   "source": [
    "def remove_whitespace(s):\n",
    "    return s.replace(\" \", \"\")\n",
    "\n",
    "print(remove_whitespace(hello world))\n",
    "print(remove_whitespace(\" Python Programming \"))"
   ]
  },
  {
   "cell_type": "markdown",
   "id": "541679e0",
   "metadata": {},
   "source": [
    "## Exercise 37"
   ]
  },
  {
   "cell_type": "code",
   "execution_count": null,
   "id": "e70e1afe",
   "metadata": {},
   "outputs": [],
   "source": [
    "class Dog:\n",
    "    def __init__(self, name):\n",
    "        self.name == name\n",
    "    \n",
    "    def bark(self):\n",
    "        print(f\"{self.name} says Woof!\")\n",
    "\n",
    "dog1 = Dog(\"Buddy\")\n",
    "dog1.bark()"
   ]
  },
  {
   "cell_type": "markdown",
   "id": "1dc3541d",
   "metadata": {},
   "source": [
    "## Exercise 38"
   ]
  },
  {
   "cell_type": "code",
   "execution_count": null,
   "id": "0733df5a",
   "metadata": {},
   "outputs": [],
   "source": [
    "def remove_whitespace(s):\n",
    "    return s.replace(\" \", \"\")\n",
    "\n",
    "print(remove_whitespace(hello world))\n",
    "print(remove_whitespace(\" Python Programming \"))"
   ]
  },
  {
   "cell_type": "markdown",
   "id": "57342387",
   "metadata": {},
   "source": [
    "## Exercise 39"
   ]
  },
  {
   "cell_type": "code",
   "execution_count": null,
   "id": "4b3f297b",
   "metadata": {},
   "outputs": [],
   "source": [
    "def greet(name)\n",
    "    if name = \"Alice\":\n",
    "        print(\"Hello Alice!\")\n",
    "    else\n",
    "        print(\"Hello, \" name + \"!\")\n",
    "\n",
    "greet(\"Bob\")"
   ]
  },
  {
   "cell_type": "markdown",
   "id": "a9c471eb",
   "metadata": {},
   "source": [
    "## Exercise 40"
   ]
  },
  {
   "cell_type": "code",
   "execution_count": null,
   "id": "6d1311e7",
   "metadata": {},
   "outputs": [],
   "source": [
    "def is_palindrome(s):\n",
    "    return s == s[::-1]\n",
    "\n",
    "words = [\"racecar\", \"hello\", \"madam\"]\n",
    "for word in words:\n",
    "    print(f\"{word}: {is_palindrome(word)}\")"
   ]
  },
  {
   "cell_type": "markdown",
   "id": "a683ac08",
   "metadata": {},
   "source": [
    "## Exercise 41"
   ]
  },
  {
   "cell_type": "code",
   "execution_count": null,
   "id": "951929a8",
   "metadata": {},
   "outputs": [],
   "source": [
    "def countdown(n):\n",
    "    while n > 0:\n",
    "        print(n)\n",
    "    n -= 1\n",
    "\n",
    "countdown(5)\n",
    "print(\"Blastoff!\")"
   ]
  },
  {
   "cell_type": "markdown",
   "id": "4144c2c1",
   "metadata": {},
   "source": [
    "## Exercise 42"
   ]
  },
  {
   "cell_type": "code",
   "execution_count": null,
   "id": "3617a1f3",
   "metadata": {},
   "outputs": [],
   "source": [
    "def square_numbers(numbers):\n",
    "    squared = [num ** 2 for num in numbers\n",
    "    return squared\n",
    "\n",
    "print(square_numbers([1, 2, 3, 4]))\n",
    "print(square_numbers([5, 6, 7]))"
   ]
  },
  {
   "cell_type": "markdown",
   "id": "1ae81ed1",
   "metadata": {},
   "source": [
    "## Exercise 43"
   ]
  },
  {
   "cell_type": "code",
   "execution_count": null,
   "id": "5585ec6f",
   "metadata": {},
   "outputs": [],
   "source": [
    "def unique_elements(lst):\n",
    "    unique = []\n",
    "    for num in lst:\n",
    "        if num not in unique:\n",
    "        unique.append(num)\n",
    "    return unique\n",
    "\n",
    "print(unique_elements([1, 2, 2, 3, 4, 4, 5]))\n",
    "print(unique_elements([5, 5, 6, 7]))"
   ]
  },
  {
   "cell_type": "markdown",
   "id": "9991f48d",
   "metadata": {},
   "source": [
    "## Exercise 44"
   ]
  },
  {
   "cell_type": "code",
   "execution_count": null,
   "id": "3279ee64",
   "metadata": {},
   "outputs": [],
   "source": [
    "def countdown(n):\n",
    "    while n > 0:\n",
    "        print(n)\n",
    "    n -= 1\n",
    "\n",
    "countdown(5)\n",
    "print(\"Blastoff!\")"
   ]
  },
  {
   "cell_type": "markdown",
   "id": "5753ec24",
   "metadata": {},
   "source": [
    "## Exercise 45"
   ]
  },
  {
   "cell_type": "code",
   "execution_count": null,
   "id": "a02e9aa1",
   "metadata": {},
   "outputs": [],
   "source": [
    "def square_numbers(numbers):\n",
    "    squared = [num ** 2 for num in numbers\n",
    "    return squared\n",
    "\n",
    "print(square_numbers([1, 2, 3, 4]))\n",
    "print(square_numbers([5, 6, 7]))"
   ]
  },
  {
   "cell_type": "markdown",
   "id": "28e668db",
   "metadata": {},
   "source": [
    "## Exercise 46"
   ]
  },
  {
   "cell_type": "code",
   "execution_count": null,
   "id": "12859d9b",
   "metadata": {},
   "outputs": [],
   "source": [
    "def greet(name)\n",
    "    if name = \"Alice\":\n",
    "        print(\"Hello Alice!\")\n",
    "    else\n",
    "        print(\"Hello, \" name + \"!\")\n",
    "\n",
    "greet(\"Bob\")"
   ]
  },
  {
   "cell_type": "markdown",
   "id": "6d0c719a",
   "metadata": {},
   "source": [
    "## Exercise 47"
   ]
  },
  {
   "cell_type": "code",
   "execution_count": null,
   "id": "68eac071",
   "metadata": {},
   "outputs": [],
   "source": [
    "def unique_elements(lst):\n",
    "    unique = []\n",
    "    for num in lst:\n",
    "        if num not in unique:\n",
    "        unique.append(num)\n",
    "    return unique\n",
    "\n",
    "print(unique_elements([1, 2, 2, 3, 4, 4, 5]))\n",
    "print(unique_elements([5, 5, 6, 7]))"
   ]
  },
  {
   "cell_type": "markdown",
   "id": "ca00c6c4",
   "metadata": {},
   "source": [
    "## Exercise 48"
   ]
  },
  {
   "cell_type": "code",
   "execution_count": null,
   "id": "9094b8b7",
   "metadata": {},
   "outputs": [],
   "source": [
    "def is_palindrome(s):\n",
    "    return s == s[::-1]\n",
    "\n",
    "words = [\"racecar\", \"hello\", \"madam\"]\n",
    "for word in words:\n",
    "    print(f\"{word}: {is_palindrome(word)}\")"
   ]
  },
  {
   "cell_type": "markdown",
   "id": "f936fd9f",
   "metadata": {},
   "source": [
    "## Exercise 49"
   ]
  },
  {
   "cell_type": "code",
   "execution_count": null,
   "id": "d5ea7ef4",
   "metadata": {},
   "outputs": [],
   "source": [
    "def is_palindrome(s):\n",
    "    return s == s[::-1]\n",
    "\n",
    "words = [\"racecar\", \"hello\", \"madam\"]\n",
    "for word in words:\n",
    "    print(f\"{word}: {is_palindrome(word)}\")"
   ]
  },
  {
   "cell_type": "markdown",
   "id": "ed532f3f",
   "metadata": {},
   "source": [
    "## Exercise 50"
   ]
  },
  {
   "cell_type": "code",
   "execution_count": null,
   "id": "91375247",
   "metadata": {},
   "outputs": [],
   "source": [
    "def merge_lists(lst1, lst2):\n",
    "    return lst1 .append(lst2)\n",
    "\n",
    "print(merge_lists([1, 2, 3], [4, 5, 6]))"
   ]
  }
 ],
 "metadata": {
  "kernelspec": {
   "display_name": "Python 3",
   "language": "python",
   "name": "python3"
  },
  "language_info": {
   "codemirror_mode": {
    "name": "ipython",
    "version": 3
   },
   "file_extension": ".py",
   "mimetype": "text/x-python",
   "name": "python",
   "nbconvert_exporter": "python",
   "pygments_lexer": "ipython3",
   "version": "3.12.2"
  }
 },
 "nbformat": 4,
 "nbformat_minor": 5
}
